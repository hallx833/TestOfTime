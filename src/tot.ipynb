{
 "cells": [
  {
   "cell_type": "code",
   "execution_count": 83,
   "metadata": {},
   "outputs": [],
   "source": [
    "from twitchAPI.twitch import Twitch\n",
    "from twitchAPI.oauth import UserAuthenticator\n",
    "from twitchAPI.types import AuthScope\n",
    "from twitchAPI.helper import first\n",
    "import random\n",
    "from datetime import datetime, timezone, timedelta"
   ]
  },
  {
   "cell_type": "code",
   "execution_count": 93,
   "metadata": {},
   "outputs": [],
   "source": [
    "twitch = await Twitch(client_id, client_secret)\n",
    "target_scope = [AuthScope.MODERATOR_READ_CHATTERS, AuthScope.MODERATOR_READ_FOLLOWERS, AuthScope.CHANNEL_MANAGE_PREDICTIONS]\n",
    "auth = UserAuthenticator(twitch, target_scope, force_verify=True)\n",
    "token, refresh_token = await auth.authenticate()"
   ]
  },
  {
   "cell_type": "code",
   "execution_count": 94,
   "metadata": {},
   "outputs": [],
   "source": [
    "await twitch.set_user_authentication(token, target_scope, refresh_token)"
   ]
  },
  {
   "cell_type": "code",
   "execution_count": 95,
   "metadata": {},
   "outputs": [],
   "source": [
    "streamer = await first(twitch.get_users(logins=streamer_name))\n",
    "streamer_id = streamer.id"
   ]
  },
  {
   "cell_type": "code",
   "execution_count": 96,
   "metadata": {},
   "outputs": [
    {
     "data": {
      "text/plain": [
       "[<twitchAPI.object.Chatter at 0x204e2b26220>,\n",
       " <twitchAPI.object.Chatter at 0x204e2b26eb0>,\n",
       " <twitchAPI.object.Chatter at 0x204e2b26970>]"
      ]
     },
     "execution_count": 96,
     "metadata": {},
     "output_type": "execute_result"
    }
   ],
   "source": [
    "chatters = await twitch.get_chatters(streamer_id, streamer_id)\n",
    "chatters.data"
   ]
  },
  {
   "cell_type": "code",
   "execution_count": 99,
   "metadata": {},
   "outputs": [
    {
     "data": {
      "text/plain": [
       "'L0rdEv'"
      ]
     },
     "execution_count": 99,
     "metadata": {},
     "output_type": "execute_result"
    }
   ],
   "source": [
    "winner = random.choice(chatters.data)\n",
    "winner_res = await first(twitch.get_users(logins=winner.user_name))\n",
    "winner_id = winner_res.id\n",
    "winner.user_name"
   ]
  },
  {
   "cell_type": "code",
   "execution_count": 100,
   "metadata": {},
   "outputs": [],
   "source": [
    "followers = await twitch.get_channel_followers(streamer_id, user_id=winner_id)"
   ]
  },
  {
   "cell_type": "code",
   "execution_count": 102,
   "metadata": {},
   "outputs": [],
   "source": [
    "if not followers.data:\n",
    "    follow_time = timedelta(0)\n",
    "else:\n",
    "    follow_time = (datetime.now(timezone.utc) - followers.data[0].followed_at)\n",
    "\n",
    "over_under = timedelta(days=365)\n",
    "result = follow_time > over_under"
   ]
  },
  {
   "cell_type": "code",
   "execution_count": 104,
   "metadata": {},
   "outputs": [
    {
     "data": {
      "text/plain": [
       "<coroutine object Twitch.create_prediction at 0x00000204E2B5F1C0>"
      ]
     },
     "execution_count": 104,
     "metadata": {},
     "output_type": "execute_result"
    }
   ],
   "source": [
    "twitch.create_prediction(\n",
    "    streamer_id, \n",
    "    title=f'Has {winner.user_name} been following for over {follow_time}',\n",
    "    outcomes=['Yes', 'No'],\n",
    "    prediction_window=60)"
   ]
  },
  {
   "cell_type": "code",
   "execution_count": null,
   "metadata": {},
   "outputs": [],
   "source": []
  }
 ],
 "metadata": {
  "kernelspec": {
   "display_name": ".venv",
   "language": "python",
   "name": "python3"
  },
  "language_info": {
   "codemirror_mode": {
    "name": "ipython",
    "version": 3
   },
   "file_extension": ".py",
   "mimetype": "text/x-python",
   "name": "python",
   "nbconvert_exporter": "python",
   "pygments_lexer": "ipython3",
   "version": "3.9.13"
  },
  "orig_nbformat": 4
 },
 "nbformat": 4,
 "nbformat_minor": 2
}
