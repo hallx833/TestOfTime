{
 "cells": [
  {
   "cell_type": "code",
   "execution_count": 8,
   "metadata": {},
   "outputs": [],
   "source": [
    "from twitchAPI.twitch import Twitch\n",
    "from twitchAPI.oauth import UserAuthenticator\n",
    "from twitchAPI.types import AuthScope\n",
    "from twitchAPI.helper import first\n",
    "import random\n",
    "from datetime import datetime, timezone, timedelta\n",
    "import json"
   ]
  },
  {
   "cell_type": "code",
   "execution_count": 10,
   "metadata": {},
   "outputs": [],
   "source": [
    "with open('../config.json') as f:\n",
    "    config = json.load(f)\n",
    "twitch = await Twitch(config['client_id'], config['client_secret'])\n",
    "target_scope = [AuthScope.MODERATOR_READ_CHATTERS, AuthScope.MODERATOR_READ_FOLLOWERS, AuthScope.CHANNEL_MANAGE_PREDICTIONS]\n",
    "auth = UserAuthenticator(twitch, target_scope, force_verify=True)\n",
    "token, refresh_token = await auth.authenticate()"
   ]
  },
  {
   "cell_type": "code",
   "execution_count": 94,
   "metadata": {},
   "outputs": [],
   "source": [
    "await twitch.set_user_authentication(token, target_scope, refresh_token)"
   ]
  },
  {
   "cell_type": "code",
   "execution_count": 95,
   "metadata": {},
   "outputs": [],
   "source": [
    "streamer = await first(twitch.get_users(logins=config['streamer_name']))\n",
    "streamer_id = streamer.id"
   ]
  },
  {
   "cell_type": "code",
   "execution_count": 96,
   "metadata": {},
   "outputs": [
    {
     "data": {
      "text/plain": [
       "[<twitchAPI.object.Chatter at 0x204e2b26220>,\n",
       " <twitchAPI.object.Chatter at 0x204e2b26eb0>,\n",
       " <twitchAPI.object.Chatter at 0x204e2b26970>]"
      ]
     },
     "execution_count": 96,
     "metadata": {},
     "output_type": "execute_result"
    }
   ],
   "source": [
    "chatters = await twitch.get_chatters(streamer_id, streamer_id)\n",
    "chatters.data"
   ]
  },
  {
   "cell_type": "code",
   "execution_count": 99,
   "metadata": {},
   "outputs": [
    {
     "data": {
      "text/plain": [
       "'L0rdEv'"
      ]
     },
     "execution_count": 99,
     "metadata": {},
     "output_type": "execute_result"
    }
   ],
   "source": [
    "winner = random.choice(chatters.data)\n",
    "winner_res = await first(twitch.get_users(logins=winner.user_name))\n",
    "winner_id = winner_res.id\n",
    "winner.user_name"
   ]
  },
  {
   "cell_type": "code",
   "execution_count": 100,
   "metadata": {},
   "outputs": [],
   "source": [
    "followers = await twitch.get_channel_followers(streamer_id, user_id=winner_id)"
   ]
  },
  {
   "cell_type": "code",
   "execution_count": 102,
   "metadata": {},
   "outputs": [],
   "source": [
    "if not followers.data:\n",
    "    follow_time = timedelta(0)\n",
    "else:\n",
    "    follow_time = (datetime.now(timezone.utc) - followers.data[0].followed_at)\n",
    "\n",
    "over_under = timedelta(days=365)\n",
    "result = follow_time > over_under"
   ]
  },
  {
   "cell_type": "code",
   "execution_count": 104,
   "metadata": {},
   "outputs": [
    {
     "data": {
      "text/plain": [
       "<coroutine object Twitch.create_prediction at 0x00000204E2B5F1C0>"
      ]
     },
     "execution_count": 104,
     "metadata": {},
     "output_type": "execute_result"
    }
   ],
   "source": [
    "twitch.create_prediction(\n",
    "    streamer_id, \n",
    "    title=f'Has {winner.user_name} been following for over {follow_time}',\n",
    "    outcomes=['Yes', 'No'],\n",
    "    prediction_window=60)"
   ]
  },
  {
   "cell_type": "code",
   "execution_count": 1,
   "metadata": {},
   "outputs": [],
   "source": [
    "from asyncinit import asyncinit\n",
    "\n",
    "@asyncinit\n",
    "class MyClass:\n",
    "    async def __init__(self, param):\n",
    "        self.val = await self.deferredFn(param)\n",
    "\n",
    "    async def deferredFn(self, x):\n",
    "        # ...\n",
    "        return x + 2\n",
    "\n",
    "obj = await MyClass(42)\n",
    "assert obj.val == 44"
   ]
  },
  {
   "cell_type": "code",
   "execution_count": 3,
   "metadata": {},
   "outputs": [
    {
     "data": {
      "text/plain": [
       "44"
      ]
     },
     "execution_count": 3,
     "metadata": {},
     "output_type": "execute_result"
    }
   ],
   "source": [
    "obj.val"
   ]
  },
  {
   "cell_type": "code",
   "execution_count": null,
   "metadata": {},
   "outputs": [
    {
     "name": "stdout",
     "output_type": "stream",
     "text": [
      "[<twitchAPI.object.Chatter object at 0x0000022C723399A0>, <twitchAPI.object.Chatter object at 0x0000022C723397F0>, <twitchAPI.object.Chatter object at 0x0000022C72339E50>]\n",
      "ho0gwundgs4haxjyk19hp89j2wr9kl\n"
     ]
    },
    {
     "ename": "AttributeError",
     "evalue": "'NoneType' object has no attribute 'is_set'",
     "output_type": "error",
     "traceback": [
      "\u001b[1;31m---------------------------------------------------------------------------\u001b[0m",
      "\u001b[1;31mRuntimeError\u001b[0m                              Traceback (most recent call last)",
      "File \u001b[1;32mc:\\Users\\evan\\Dev\\TestOfTime\\.venv\\lib\\site-packages\\twitchio\\client.py:159\u001b[0m, in \u001b[0;36mClient.run\u001b[1;34m(self)\u001b[0m\n\u001b[0;32m    158\u001b[0m task \u001b[39m=\u001b[39m \u001b[39mself\u001b[39m\u001b[39m.\u001b[39mloop\u001b[39m.\u001b[39mcreate_task(\u001b[39mself\u001b[39m\u001b[39m.\u001b[39mconnect())\n\u001b[1;32m--> 159\u001b[0m \u001b[39mself\u001b[39;49m\u001b[39m.\u001b[39;49mloop\u001b[39m.\u001b[39;49mrun_until_complete(task)  \u001b[39m# this'll raise if the connect fails\u001b[39;00m\n\u001b[0;32m    160\u001b[0m \u001b[39mself\u001b[39m\u001b[39m.\u001b[39mloop\u001b[39m.\u001b[39mrun_forever()\n",
      "File \u001b[1;32mC:\\Program Files (x86)\\Microsoft Visual Studio\\Shared\\Python39_64\\lib\\asyncio\\base_events.py:623\u001b[0m, in \u001b[0;36mBaseEventLoop.run_until_complete\u001b[1;34m(self, future)\u001b[0m\n\u001b[0;32m    622\u001b[0m \u001b[39mself\u001b[39m\u001b[39m.\u001b[39m_check_closed()\n\u001b[1;32m--> 623\u001b[0m \u001b[39mself\u001b[39;49m\u001b[39m.\u001b[39;49m_check_running()\n\u001b[0;32m    625\u001b[0m new_task \u001b[39m=\u001b[39m \u001b[39mnot\u001b[39;00m futures\u001b[39m.\u001b[39misfuture(future)\n",
      "File \u001b[1;32mC:\\Program Files (x86)\\Microsoft Visual Studio\\Shared\\Python39_64\\lib\\asyncio\\base_events.py:583\u001b[0m, in \u001b[0;36mBaseEventLoop._check_running\u001b[1;34m(self)\u001b[0m\n\u001b[0;32m    582\u001b[0m \u001b[39mif\u001b[39;00m \u001b[39mself\u001b[39m\u001b[39m.\u001b[39mis_running():\n\u001b[1;32m--> 583\u001b[0m     \u001b[39mraise\u001b[39;00m \u001b[39mRuntimeError\u001b[39;00m(\u001b[39m'\u001b[39m\u001b[39mThis event loop is already running\u001b[39m\u001b[39m'\u001b[39m)\n\u001b[0;32m    584\u001b[0m \u001b[39mif\u001b[39;00m events\u001b[39m.\u001b[39m_get_running_loop() \u001b[39mis\u001b[39;00m \u001b[39mnot\u001b[39;00m \u001b[39mNone\u001b[39;00m:\n",
      "\u001b[1;31mRuntimeError\u001b[0m: This event loop is already running",
      "\nDuring handling of the above exception, another exception occurred:\n",
      "\u001b[1;31mAttributeError\u001b[0m                            Traceback (most recent call last)",
      "Cell \u001b[1;32mIn[7], line 47\u001b[0m\n\u001b[0;32m     44\u001b[0m         \u001b[39mawait\u001b[39;00m ctx\u001b[39m.\u001b[39msend(\u001b[39mf\u001b[39m\u001b[39m'\u001b[39m\u001b[39mHello \u001b[39m\u001b[39m{\u001b[39;00mchatters\u001b[39m.\u001b[39mdata\u001b[39m}\u001b[39;00m\u001b[39m!\u001b[39m\u001b[39m'\u001b[39m)\n\u001b[0;32m     46\u001b[0m bot \u001b[39m=\u001b[39m \u001b[39mawait\u001b[39;00m Bot()\n\u001b[1;32m---> 47\u001b[0m bot\u001b[39m.\u001b[39;49mrun()\n",
      "File \u001b[1;32mc:\\Users\\evan\\Dev\\TestOfTime\\.venv\\lib\\site-packages\\twitchio\\client.py:164\u001b[0m, in \u001b[0;36mClient.run\u001b[1;34m(self)\u001b[0m\n\u001b[0;32m    162\u001b[0m     \u001b[39mpass\u001b[39;00m\n\u001b[0;32m    163\u001b[0m \u001b[39mfinally\u001b[39;00m:\n\u001b[1;32m--> 164\u001b[0m     \u001b[39mif\u001b[39;00m \u001b[39mnot\u001b[39;00m \u001b[39mself\u001b[39;49m\u001b[39m.\u001b[39;49m_closing\u001b[39m.\u001b[39;49mis_set():\n\u001b[0;32m    165\u001b[0m         \u001b[39mself\u001b[39m\u001b[39m.\u001b[39mloop\u001b[39m.\u001b[39mrun_until_complete(\u001b[39mself\u001b[39m\u001b[39m.\u001b[39mclose())\n\u001b[0;32m    167\u001b[0m     \u001b[39mself\u001b[39m\u001b[39m.\u001b[39mloop\u001b[39m.\u001b[39mclose()\n",
      "\u001b[1;31mAttributeError\u001b[0m: 'NoneType' object has no attribute 'is_set'"
     ]
    },
    {
     "name": "stderr",
     "output_type": "stream",
     "text": [
      "Login unsuccessful with token \"ho0gwundgs4haxjyk19hp89j2wr9kl\". Check your scopes for \"chat_login\" and try again.\n",
      "Exception in callback WSConnection._task_callback(':tmi.twitch....h.tv/commands')(<Task cancell...ocket.py:339>>)\n",
      "handle: <Handle WSConnection._task_callback(':tmi.twitch....h.tv/commands')(<Task cancell...ocket.py:339>>)>\n",
      "Traceback (most recent call last):\n",
      "  File \"c:\\Users\\evan\\Dev\\TestOfTime\\.venv\\lib\\site-packages\\twitchio\\websocket.py\", line 339, in _process_data\n",
      "    async def _process_data(self, data: str):\n",
      "asyncio.exceptions.CancelledError\n",
      "\n",
      "During handling of the above exception, another exception occurred:\n",
      "\n",
      "Traceback (most recent call last):\n",
      "  File \"C:\\Program Files (x86)\\Microsoft Visual Studio\\Shared\\Python39_64\\lib\\asyncio\\events.py\", line 80, in _run\n",
      "    self._context.run(self._callback, *self._args)\n",
      "  File \"c:\\Users\\evan\\Dev\\TestOfTime\\.venv\\lib\\site-packages\\twitchio\\websocket.py\", line 196, in _task_callback\n",
      "    exc = task.exception()\n",
      "asyncio.exceptions.CancelledError\n",
      "Exception in callback WSConnection._task_callback(':tmi.twitch.... unsuccessful')(<Task cancell...ocket.py:339>>)\n",
      "handle: <Handle WSConnection._task_callback(':tmi.twitch.... unsuccessful')(<Task cancell...ocket.py:339>>)>\n",
      "Traceback (most recent call last):\n",
      "  File \"c:\\Users\\evan\\Dev\\TestOfTime\\.venv\\lib\\site-packages\\twitchio\\websocket.py\", line 351, in _process_data\n",
      "    return await self._close()\n",
      "  File \"c:\\Users\\evan\\Dev\\TestOfTime\\.venv\\lib\\site-packages\\twitchio\\websocket.py\", line 593, in _close\n",
      "    await self._websocket.close()\n",
      "  File \"c:\\Users\\evan\\Dev\\TestOfTime\\.venv\\lib\\site-packages\\aiohttp\\client_ws.py\", line 172, in close\n",
      "    await self._waiting\n",
      "asyncio.exceptions.CancelledError\n",
      "\n",
      "During handling of the above exception, another exception occurred:\n",
      "\n",
      "Traceback (most recent call last):\n",
      "  File \"C:\\Program Files (x86)\\Microsoft Visual Studio\\Shared\\Python39_64\\lib\\asyncio\\events.py\", line 80, in _run\n",
      "    self._context.run(self._callback, *self._args)\n",
      "  File \"c:\\Users\\evan\\Dev\\TestOfTime\\.venv\\lib\\site-packages\\twitchio\\websocket.py\", line 196, in _task_callback\n",
      "    exc = task.exception()\n",
      "asyncio.exceptions.CancelledError\n"
     ]
    }
   ],
   "source": [
    "from twitchio.ext import commands\n",
    "\n",
    "from twitchAPI.twitch import Twitch\n",
    "from twitchAPI.oauth import UserAuthenticator\n",
    "from twitchAPI.types import AuthScope\n",
    "from twitchAPI.helper import first\n",
    "import json\n",
    "from asyncinit import asyncinit\n",
    "import time\n",
    "\n",
    "@asyncinit\n",
    "class Bot(commands.Bot):\n",
    "    async def __init__(self):\n",
    "        with open('../config.json') as f:\n",
    "            self.config = json.load(f)\n",
    "\n",
    "        await self.auth()\n",
    "        print(self.token)\n",
    "        \n",
    "\n",
    "        super().__init__(token=self.token, prefix='!', initial_channels=[self.config['streamer']])\n",
    "        # time.sleep(5)\n",
    "\n",
    "    async def auth(self):\n",
    "        self.twitch = await Twitch(self.config['client_id'], self.config['client_secret'])\n",
    "        target_scope = [AuthScope.MODERATOR_READ_CHATTERS, AuthScope.MODERATOR_READ_FOLLOWERS, AuthScope.CHANNEL_MANAGE_PREDICTIONS]\n",
    "        auth = UserAuthenticator(self.twitch, target_scope, force_verify=False)\n",
    "        self.token, self.refresh_token = await auth.authenticate()\n",
    "        await self.twitch.set_user_authentication(self.token, target_scope, self.refresh_token)\n",
    "\n",
    "        streamer = await first(self.twitch.get_users(logins=self.config['streamer']))\n",
    "        self.streamer_id = streamer.id\n",
    "\n",
    "        chatters = await self.twitch.get_chatters(self.streamer_id, self.streamer_id)\n",
    "        print(chatters.data)\n",
    "\n",
    "    async def event_ready(self):\n",
    "        print(f'Logged in as | {self.nick}')\n",
    "        print(f'User id is | {self.user_id}')\n",
    "\n",
    "    @commands.command()\n",
    "    async def tot(self, ctx: commands.Context):\n",
    "        chatters = await self.twitch.get_chatters(self.streamer_id, self.streamer_id)\n",
    "        await ctx.send(f'Hello {chatters.data}!')\n",
    "\n",
    "bot = await Bot()\n",
    "bot.run()"
   ]
  },
  {
   "cell_type": "code",
   "execution_count": 4,
   "metadata": {},
   "outputs": [
    {
     "name": "stdout",
     "output_type": "stream",
     "text": [
      "[<twitchAPI.object.Chatter object at 0x0000022C72339400>, <twitchAPI.object.Chatter object at 0x0000022C72339940>, <twitchAPI.object.Chatter object at 0x0000022C723393D0>]\n",
      "66uvutpm8vx8y0ojfhgin2db85o25n\n"
     ]
    },
    {
     "ename": "AttributeError",
     "evalue": "'Bot' object has no attribute '_closing'",
     "output_type": "error",
     "traceback": [
      "\u001b[1;31m---------------------------------------------------------------------------\u001b[0m",
      "\u001b[1;31mAttributeError\u001b[0m                            Traceback (most recent call last)",
      "File \u001b[1;32mc:\\Users\\evan\\Dev\\TestOfTime\\.venv\\lib\\site-packages\\twitchio\\client.py:158\u001b[0m, in \u001b[0;36mClient.run\u001b[1;34m(self)\u001b[0m\n\u001b[0;32m    157\u001b[0m \u001b[39mtry\u001b[39;00m:\n\u001b[1;32m--> 158\u001b[0m     task \u001b[39m=\u001b[39m \u001b[39mself\u001b[39;49m\u001b[39m.\u001b[39;49mloop\u001b[39m.\u001b[39mcreate_task(\u001b[39mself\u001b[39m\u001b[39m.\u001b[39mconnect())\n\u001b[0;32m    159\u001b[0m     \u001b[39mself\u001b[39m\u001b[39m.\u001b[39mloop\u001b[39m.\u001b[39mrun_until_complete(task)  \u001b[39m# this'll raise if the connect fails\u001b[39;00m\n",
      "\u001b[1;31mAttributeError\u001b[0m: 'Bot' object has no attribute 'loop'",
      "\nDuring handling of the above exception, another exception occurred:\n",
      "\u001b[1;31mAttributeError\u001b[0m                            Traceback (most recent call last)",
      "Cell \u001b[1;32mIn[4], line 2\u001b[0m\n\u001b[0;32m      1\u001b[0m bot \u001b[39m=\u001b[39m \u001b[39mawait\u001b[39;00m Bot()\n\u001b[1;32m----> 2\u001b[0m bot\u001b[39m.\u001b[39;49mrun()\n",
      "File \u001b[1;32mc:\\Users\\evan\\Dev\\TestOfTime\\.venv\\lib\\site-packages\\twitchio\\client.py:164\u001b[0m, in \u001b[0;36mClient.run\u001b[1;34m(self)\u001b[0m\n\u001b[0;32m    162\u001b[0m     \u001b[39mpass\u001b[39;00m\n\u001b[0;32m    163\u001b[0m \u001b[39mfinally\u001b[39;00m:\n\u001b[1;32m--> 164\u001b[0m     \u001b[39mif\u001b[39;00m \u001b[39mnot\u001b[39;00m \u001b[39mself\u001b[39;49m\u001b[39m.\u001b[39;49m_closing\u001b[39m.\u001b[39mis_set():\n\u001b[0;32m    165\u001b[0m         \u001b[39mself\u001b[39m\u001b[39m.\u001b[39mloop\u001b[39m.\u001b[39mrun_until_complete(\u001b[39mself\u001b[39m\u001b[39m.\u001b[39mclose())\n\u001b[0;32m    167\u001b[0m     \u001b[39mself\u001b[39m\u001b[39m.\u001b[39mloop\u001b[39m.\u001b[39mclose()\n",
      "\u001b[1;31mAttributeError\u001b[0m: 'Bot' object has no attribute '_closing'"
     ]
    }
   ],
   "source": []
  },
  {
   "cell_type": "code",
   "execution_count": 1,
   "metadata": {},
   "outputs": [],
   "source": [
    "from datetime import datetime"
   ]
  },
  {
   "cell_type": "code",
   "execution_count": 13,
   "metadata": {},
   "outputs": [
    {
     "data": {
      "text/plain": [
       "datetime.datetime(2022, 10, 17, 0, 0)"
      ]
     },
     "execution_count": 13,
     "metadata": {},
     "output_type": "execute_result"
    }
   ],
   "source": [
    "datetime.strptime('22/10/17', '%y/%m/%d')"
   ]
  },
  {
   "cell_type": "code",
   "execution_count": 14,
   "metadata": {},
   "outputs": [
    {
     "ename": "AttributeError",
     "evalue": "'str' object has no attribute 'value'",
     "output_type": "error",
     "traceback": [
      "\u001b[1;31m---------------------------------------------------------------------------\u001b[0m",
      "\u001b[1;31mAttributeError\u001b[0m                            Traceback (most recent call last)",
      "Cell \u001b[1;32mIn[14], line 1\u001b[0m\n\u001b[1;32m----> 1\u001b[0m \u001b[39mmin\u001b[39;49m({\u001b[39m'\u001b[39;49m\u001b[39ma\u001b[39;49m\u001b[39m'\u001b[39;49m: \u001b[39m1\u001b[39;49m}, key\u001b[39m=\u001b[39;49m\u001b[39mlambda\u001b[39;49;00m x: x\u001b[39m.\u001b[39;49mvalue)\n",
      "Cell \u001b[1;32mIn[14], line 1\u001b[0m, in \u001b[0;36m<lambda>\u001b[1;34m(x)\u001b[0m\n\u001b[1;32m----> 1\u001b[0m \u001b[39mmin\u001b[39m({\u001b[39m'\u001b[39m\u001b[39ma\u001b[39m\u001b[39m'\u001b[39m: \u001b[39m1\u001b[39m}, key\u001b[39m=\u001b[39m\u001b[39mlambda\u001b[39;00m x: x\u001b[39m.\u001b[39;49mvalue)\n",
      "\u001b[1;31mAttributeError\u001b[0m: 'str' object has no attribute 'value'"
     ]
    }
   ],
   "source": [
    "min({'a': 1}, key=lambda x: x.get)"
   ]
  },
  {
   "cell_type": "code",
   "execution_count": null,
   "metadata": {},
   "outputs": [],
   "source": []
  }
 ],
 "metadata": {
  "kernelspec": {
   "display_name": ".venv",
   "language": "python",
   "name": "python3"
  },
  "language_info": {
   "codemirror_mode": {
    "name": "ipython",
    "version": 3
   },
   "file_extension": ".py",
   "mimetype": "text/x-python",
   "name": "python",
   "nbconvert_exporter": "python",
   "pygments_lexer": "ipython3",
   "version": "3.9.13"
  },
  "orig_nbformat": 4
 },
 "nbformat": 4,
 "nbformat_minor": 2
}
